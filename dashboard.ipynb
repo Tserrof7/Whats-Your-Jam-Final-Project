{
 "cells": [
  {
   "cell_type": "code",
   "execution_count": 4,
   "id": "bf64159b",
   "metadata": {},
   "outputs": [
    {
     "name": "stderr",
     "output_type": "stream",
     "text": [
      "2025-05-24 13:58:51.900 Thread 'MainThread': missing ScriptRunContext! This warning can be ignored when running in bare mode.\n",
      "2025-05-24 13:58:51.902 Thread 'MainThread': missing ScriptRunContext! This warning can be ignored when running in bare mode.\n",
      "2025-05-24 13:58:51.905 Thread 'MainThread': missing ScriptRunContext! This warning can be ignored when running in bare mode.\n",
      "2025-05-24 13:58:51.907 Thread 'MainThread': missing ScriptRunContext! This warning can be ignored when running in bare mode.\n",
      "2025-05-24 13:58:51.908 Thread 'MainThread': missing ScriptRunContext! This warning can be ignored when running in bare mode.\n",
      "2025-05-24 13:58:51.911 Thread 'MainThread': missing ScriptRunContext! This warning can be ignored when running in bare mode.\n",
      "2025-05-24 13:58:51.913 Thread 'MainThread': missing ScriptRunContext! This warning can be ignored when running in bare mode.\n",
      "2025-05-24 13:58:51.914 Thread 'MainThread': missing ScriptRunContext! This warning can be ignored when running in bare mode.\n",
      "2025-05-24 13:58:51.915 Thread 'MainThread': missing ScriptRunContext! This warning can be ignored when running in bare mode.\n"
     ]
    }
   ],
   "source": [
    "import streamlit as st\n",
    "import pandas as pd\n",
    "import spotipy\n",
    "from spotipy.oauth2 import SpotifyOAuth\n",
    "\n",
    "# ------- Spotify API Authentication -------\n",
    "CLIENT_ID = \"your_client_id\"       # Replace with your Spotify client ID\n",
    "CLIENT_SECRET = \"your_client_secret\"   # Replace with your Spotify client secret\n",
    "REDIRECT_URI = \"http://localhost:7777/callback\"\n",
    "SCOPE = \"user-read-private user-modify-playback-state user-read-playback-state\"\n",
    "\n",
    "sp = spotipy.Spotify(auth_manager=SpotifyOAuth(\n",
    "    client_id=CLIENT_ID,\n",
    "    client_secret=CLIENT_SECRET,\n",
    "    redirect_uri=REDIRECT_URI,\n",
    "    scope=SCOPE\n",
    "))\n",
    "\n",
    "# ------- Streamlit Dashboard -------\n",
    "st.title(\"Spotify Song Recommendations Dashboard (Static Data)\")\n",
    "\n",
    "# Load the recommended songs from the CSV file\n",
    "df_recs = pd.DataFrame()  # Ensure df_recs is always defined\n",
    "try:\n",
    "    df_recs = pd.read_csv(\"Outputrecommended_songs.csv\")\n",
    "except Exception as e:\n",
    "    st.error(\"Error loading recommended_songs.csv. Make sure the file exists and re-run your notebook.\")\n",
    "    st.stop()\n",
    "\n",
    "if df_recs.empty:\n",
    "    st.write(\"No recommendations found. Please run the notebook to generate new recommendations.\")\n",
    "else:\n",
    "    st.subheader(\"Recommended Songs\")\n",
    "    st.dataframe(df_recs)\n",
    "\n",
    "    st.write(\"Play one of these songs:\")\n",
    "    # For each recommended song, display a Play button\n",
    "    for idx, row in df_recs.iterrows():\n",
    "        if st.button(f\"Play '{row['track_name']}' by {row['artist_name']}\", key=idx):\n",
    "            # Use Spotify search to get the track URI\n",
    "            track_results = sp.search(q=row[\"track_name\"], type=\"track\", limit=1)\n",
    "            if track_results['tracks']['items']:\n",
    "                track_uri = track_results['tracks']['items'][0]['uri']\n",
    "                sp.start_playback(uris=[track_uri])\n",
    "            else:\n",
    "                st.error(\"Track not found on Spotify.\")\n"
   ]
  },
  {
   "cell_type": "code",
   "execution_count": null,
   "id": "13d4a277",
   "metadata": {},
   "outputs": [],
   "source": []
  },
  {
   "cell_type": "code",
   "execution_count": null,
   "id": "ad7264e9",
   "metadata": {},
   "outputs": [],
   "source": []
  },
  {
   "cell_type": "code",
   "execution_count": null,
   "id": "d7e8a521",
   "metadata": {},
   "outputs": [],
   "source": []
  },
  {
   "cell_type": "code",
   "execution_count": null,
   "id": "1e7d00b8",
   "metadata": {},
   "outputs": [],
   "source": []
  },
  {
   "cell_type": "code",
   "execution_count": null,
   "id": "bf71770c",
   "metadata": {},
   "outputs": [],
   "source": []
  },
  {
   "cell_type": "code",
   "execution_count": null,
   "id": "2e9ecaa0",
   "metadata": {},
   "outputs": [],
   "source": []
  }
 ],
 "metadata": {
  "kernelspec": {
   "display_name": "dev",
   "language": "python",
   "name": "python3"
  },
  "language_info": {
   "codemirror_mode": {
    "name": "ipython",
    "version": 3
   },
   "file_extension": ".py",
   "mimetype": "text/x-python",
   "name": "python",
   "nbconvert_exporter": "python",
   "pygments_lexer": "ipython3",
   "version": "3.10.16"
  }
 },
 "nbformat": 4,
 "nbformat_minor": 5
}
