{
 "cells": [
  {
   "cell_type": "markdown",
   "id": "b16b0976",
   "metadata": {},
   "source": [
    "# Import required Libraries"
   ]
  },
  {
   "cell_type": "code",
   "execution_count": null,
   "id": "9c6ae9f6",
   "metadata": {},
   "outputs": [],
   "source": [
    "# Import Required Libraries\n",
    "import pandas as pd\n",
    "import numpy as np\n",
    "import difflib\n",
    "import seaborn as sns\n",
    "import matplotlib.pyplot as plt\n",
    "from sklearn.preprocessing import StandardScaler, LabelEncoder\n",
    "from sklearn.decomposition import PCA\n",
    "from sklearn.cluster import KMeans\n",
    "from sklearn.metrics.pairwise import cosine_similarity"
   ]
  },
  {
   "cell_type": "markdown",
   "id": "c5fe66db",
   "metadata": {},
   "source": [
    "# Load the Dataset"
   ]
  },
  {
   "cell_type": "code",
   "execution_count": null,
   "id": "708f3df8",
   "metadata": {},
   "outputs": [],
   "source": [
    "# Load Dataset\n",
    "df = pd.read_csv(\"resources/SpotifyFeatures.csv\")\n",
    "# View basic info\n",
    "df.info()  # Check column types & missing values\n",
    "df.head()  # Preview first few rows\n"
   ]
  },
  {
   "cell_type": "markdown",
   "id": "1bcd165b",
   "metadata": {},
   "source": [
    "# Data Preprocessing"
   ]
  },
  {
   "cell_type": "code",
   "execution_count": null,
   "metadata": {},
   "outputs": [],
   "source": [
    "# Preprocess Data\n",
    "df[\"mode\"] = df[\"mode\"].map({\"Major\": 1, \"Minor\": 0})  # Convert Major/Minor to numeric\n",
    "\n",
    "# Encode artist names into numeric values\n",
    "artist_encoder = LabelEncoder()\n",
    "df[\"artist_encoded\"] = artist_encoder.fit_transform(df[\"artist_name\"])\n",
    "\n",
    "# Select numeric features, including artist encoding\n",
    "numeric_features = [\"danceability\", \"energy\", \"tempo\", \"acousticness\",\n",
    "                    \"instrumentalness\", \"valence\", \"loudness\", \"mode\", \"artist_encoded\"]\n",
    "\n",
    "# Sample subset for efficiency\n",
    "df_sample = df.sample(5000, random_state=42).reset_index(drop=True)\n"
   ]
  },
  {
   "cell_type": "markdown",
   "id": "fa5ea133",
   "metadata": {},
   "source": [
    "# Feature Scaling"
   ]
  },
  {
   "cell_type": "code",
   "execution_count": null,
   "metadata": {},
   "outputs": [],
   "source": [
    "# Scale features\n",
    "scaler = StandardScaler()\n",
    "X_scaled_df = pd.DataFrame(scaler.fit_transform(df_sample[numeric_features]), columns=numeric_features)"
   ]
  },
  {
   "cell_type": "markdown",
   "id": "d80bd930",
   "metadata": {},
   "source": [
    "# Apply PCA for Dimensionality Reduction"
   ]
  },
  {
   "cell_type": "code",
   "execution_count": null,
   "id": "6e75f984",
   "metadata": {},
   "outputs": [],
   "source": [
    "# Apply PCA for Dimensionality Reduction\n",
    "pca = PCA(n_components=7)  \n",
    "X_pca = pca.fit_transform(X_scaled_df)\n",
    "print(f\"Explained Variance Ratio: {sum(pca.explained_variance_ratio_):.2f}\")  # Check variance retention\n",
    "\n",
    "# Create DataFrame for PCA results\n",
    "pca_df = pd.DataFrame(X_pca, columns=[\"PC1\", \"PC2\", \"PC3\", \"PC4\", \"PC5\", \"PC6\", \"PC7\"])\n",
    "pca_df[\"artist_name\"] = df_sample[\"artist_name\"].values\n",
    "pca_df[\"original_index\"] = df_sample.index  # Keep original index for mapping clusters\n",
    "pca_df.head()  # Preview PCA DataFrame"
   ]
  },
  {
   "cell_type": "markdown",
   "id": "496e81a6",
   "metadata": {},
   "source": [
    "# Apply K-Means Clustering"
   ]
  },
  {
   "cell_type": "code",
   "execution_count": null,
   "id": "d374418b",
   "metadata": {},
   "outputs": [],
   "source": [
    "# Perform K-Means Clustering\n",
    "kmeans = KMeans(n_clusters=5, random_state=42, n_init=10)\n",
    "df_sample[\"Cluster\"] = kmeans.fit_predict(X_pca)\n",
    "\n",
    "# Merge Cluster Labels into PCA DataFrame\n",
    "pca_df[\"Cluster\"] = df_sample.loc[pca_df[\"original_index\"], \"Cluster\"].values\n"
   ]
  },
  {
   "cell_type": "code",
   "execution_count": null,
   "id": "334e3a0d",
   "metadata": {},
   "outputs": [],
   "source": [
    "# Visualize PCA Clustering\n",
    "sns.scatterplot(\n",
    "    x=pca_df[\"PC1\"], \n",
    "    y=pca_df[\"PC2\"], \n",
    "    hue=pca_df[\"Cluster\"].astype(str), \n",
    "    palette=\"viridis\",\n",
    "    alpha=0.7\n",
    ")\n",
    "plt.xlabel(\"Principal Component 1\")\n",
    "plt.ylabel(\"Principal Component 2\")\n",
    "plt.title(\"PCA Clusters Visualization\")\n",
    "plt.legend(title=\"Cluster\")\n",
    "plt.show()"
   ]
  },
  {
   "cell_type": "markdown",
   "id": "791f42f9",
   "metadata": {},
   "source": [
    "# Song Recommendation System"
   ]
  },
  {
   "cell_type": "code",
   "execution_count": 24,
   "id": "35a86595",
   "metadata": {},
   "outputs": [
    {
     "name": "stdout",
     "output_type": "stream",
     "text": [
      "Please check the spellings as there is no song named 'Symphony No.4 In E Minor Op.98 : IV. Allegro Energico E Passionato'. \n",
      "Closest match found: 'Symphony No.4 In E Minor Op.98 : I. Allegro Non Troppo' by Leopold Stokowski\n",
      "\n",
      "*Recommended song*\n",
      "\n"
     ]
    },
    {
     "data": {
      "text/html": [
       "<div>\n",
       "<style scoped>\n",
       "    .dataframe tbody tr th:only-of-type {\n",
       "        vertical-align: middle;\n",
       "    }\n",
       "\n",
       "    .dataframe tbody tr th {\n",
       "        vertical-align: top;\n",
       "    }\n",
       "\n",
       "    .dataframe thead th {\n",
       "        text-align: right;\n",
       "    }\n",
       "</style>\n",
       "<table border=\"1\" class=\"dataframe\">\n",
       "  <thead>\n",
       "    <tr style=\"text-align: right;\">\n",
       "      <th></th>\n",
       "      <th>track_name</th>\n",
       "      <th>artist_name</th>\n",
       "    </tr>\n",
       "  </thead>\n",
       "  <tbody>\n",
       "    <tr>\n",
       "      <th>3765</th>\n",
       "      <td>Le Petit Poucet - Main Theme</td>\n",
       "      <td>Joe Hisaishi</td>\n",
       "    </tr>\n",
       "    <tr>\n",
       "      <th>4065</th>\n",
       "      <td>When She Came Back</td>\n",
       "      <td>Max Richter</td>\n",
       "    </tr>\n",
       "    <tr>\n",
       "      <th>4626</th>\n",
       "      <td>Harvest Dawn</td>\n",
       "      <td>Jeremy Soule</td>\n",
       "    </tr>\n",
       "    <tr>\n",
       "      <th>2002</th>\n",
       "      <td>Rue's Farewell</td>\n",
       "      <td>James Newton Howard</td>\n",
       "    </tr>\n",
       "    <tr>\n",
       "      <th>2439</th>\n",
       "      <td>Symphony No. 9, Op. 125 in D Minor -1895 Gusta...</td>\n",
       "      <td>Ludwig van Beethoven</td>\n",
       "    </tr>\n",
       "  </tbody>\n",
       "</table>\n",
       "</div>"
      ],
      "text/plain": [
       "                                             track_name           artist_name\n",
       "3765                       Le Petit Poucet - Main Theme          Joe Hisaishi\n",
       "4065                                 When She Came Back           Max Richter\n",
       "4626                                       Harvest Dawn          Jeremy Soule\n",
       "2002                                     Rue's Farewell   James Newton Howard\n",
       "2439  Symphony No. 9, Op. 125 in D Minor -1895 Gusta...  Ludwig van Beethoven"
      ]
     },
     "execution_count": 24,
     "metadata": {},
     "output_type": "execute_result"
    }
   ],
   "source": [
    "import pandas as pd\n",
    "import difflib\n",
    "from sklearn.metrics.pairwise import cosine_similarity\n",
    "\n",
    "# Combine scaled features with original song info\n",
    "df_scaled = pd.concat([df_sample.reset_index(drop=True), X_scaled_df.reset_index(drop=True)], axis=1)\n",
    "\n",
    "# Remove duplicate columns that could cause errors\n",
    "df_scaled = df_scaled.loc[:, ~df_scaled.columns.duplicated()]\n",
    "\n",
    "# Define function to find closest matches for song names **with artist**\n",
    "def find_closest_match(input_song, cutoff=0.6):\n",
    "    \"\"\"Finds the closest match to the input song name along with the artist.\"\"\"\n",
    "    song_list = df_scaled[\"track_name\"].dropna().tolist()\n",
    "\n",
    "    # **Exact match check before running similarity search**\n",
    "    if input_song in song_list:\n",
    "        matched_song = input_song\n",
    "        matched_artist = df_scaled.loc[df_scaled[\"track_name\"] == matched_song, \"artist_name\"].values[0]\n",
    "        print(f\"Match found: '{matched_song}' by {matched_artist}\")\n",
    "        return matched_song, matched_artist  # Use exact match directly\n",
    "\n",
    "    # Fuzzy matching for closest name\n",
    "    closest_match = difflib.get_close_matches(input_song, song_list, n=1, cutoff=cutoff)\n",
    "\n",
    "    if closest_match:\n",
    "        matched_song = closest_match[0]\n",
    "        matched_artist = df_scaled.loc[df_scaled[\"track_name\"] == matched_song, \"artist_name\"].values[0]\n",
    "        print(f\"Please check the spellings as there is no song named '{input_song}'. \\nClosest match found: '{matched_song}' by {matched_artist}\")\n",
    "        return matched_song, matched_artist  # Return both song & artist\n",
    "    else:\n",
    "        return None, None  # No match found\n",
    "\n",
    "# Define song recommendation function using cosine similarity\n",
    "def recommend_song(input_song, cutoff=0.6, similarity_threshold=0.5):\n",
    "    \"\"\"Finds songs similar to the input song from different artists.\"\"\"\n",
    "\n",
    "    # Handle closest match if song isn't found\n",
    "    matched_song, matched_artist = find_closest_match(input_song, cutoff)\n",
    "    \n",
    "    if not matched_song:\n",
    "        return f\"Song '{input_song}' not found.\"\n",
    "\n",
    "    # Find the index of the matched song in df_sample (which matches X_scaled_df)\n",
    "    matched_idx = df_sample[df_sample[\"track_name\"] == matched_song].index\n",
    "    if len(matched_idx) == 0:\n",
    "        return f\"Matched song '{matched_song}' not found in sample.\"\n",
    "\n",
    "    # Get the scaled features for the matched song\n",
    "    song_features = X_scaled_df.loc[matched_idx[0], numeric_features].values.reshape(1, -1)\n",
    "\n",
    "    # Drop rows with missing values in X_scaled_df\n",
    "    valid_rows = X_scaled_df.dropna(subset=numeric_features).index\n",
    "    X_scaled_valid = X_scaled_df.loc[valid_rows, numeric_features]\n",
    "\n",
    "    # Compute similarity\n",
    "    similarities = cosine_similarity(song_features, X_scaled_valid)\n",
    "\n",
    "    # Normalize similarity scores\n",
    "    similarity_scores = similarities[0] / similarities[0].max()\n",
    "\n",
    "    # Prepare recommendations DataFrame (exclude the original artist)\n",
    "    df_valid = df_sample.loc[valid_rows].copy()\n",
    "    df_valid[\"Similarity\"] = similarity_scores\n",
    "\n",
    "    input_artist = df_valid.loc[df_valid[\"track_name\"] == matched_song, \"artist_name\"].values[0]\n",
    "    recommendations = df_valid[(df_valid[\"artist_name\"] != input_artist) & (df_valid[\"Similarity\"] >= similarity_threshold)]\n",
    "\n",
    "    # Sort by similarity first, then danceability & energy\n",
    "    recommendations = recommendations.sort_values(by=[\"Similarity\", \"danceability\", \"energy\"], ascending=[False, False, False]).head(10)\n",
    "\n",
    "    if recommendations.empty:\n",
    "        return f\"No recommendations found for '{matched_song}'. Try adjusting filters or checking dataset.\"\n",
    "\n",
    "    # **Return only track name and artist name**\n",
    "    return recommendations[[\"track_name\", \"artist_name\"]]\n",
    "\n",
    "# Test Case\n",
    "test_song = \"Symphony No.4 In E Minor Op.98 : IV. Allegro Energico E Passionato\"\n",
    "\n",
    "# Run recommendation\n",
    "recommended_songs = recommend_song(test_song)\n",
    "print(\"\\n*Recommended song*\\n\")\n",
    "recommended_songs.head()\n",
    "\n"
   ]
  },
  {
   "cell_type": "code",
   "execution_count": null,
   "id": "b2d8ef3f",
   "metadata": {},
   "outputs": [],
   "source": []
  },
  {
   "cell_type": "code",
   "execution_count": null,
   "id": "000e747b",
   "metadata": {},
   "outputs": [],
   "source": []
  },
  {
   "cell_type": "code",
   "execution_count": null,
   "id": "f3c2187b",
   "metadata": {},
   "outputs": [],
   "source": [
    "# Save the PCA DataFrame to CSV for further analysis\n",
    "pca_df.to_csv(\"resources/pca_results.csv\", index=False)\n",
    "# Save the scaled DataFrame to CSV for further analysis\n",
    "df_scaled.to_csv(\"resources/scaled_features.csv\", index=False)\n",
    "# Save the original DataFrame with clusters to CSV for further analysis\n",
    "df_sample.to_csv(\"resources/original_with_clusters.csv\", index=False)"
   ]
  },
  {
   "cell_type": "code",
   "execution_count": null,
   "id": "fcefdb6c",
   "metadata": {},
   "outputs": [],
   "source": []
  }
 ],
 "metadata": {
  "kernelspec": {
   "display_name": "dev",
   "language": "python",
   "name": "python3"
  },
  "language_info": {
   "codemirror_mode": {
    "name": "ipython",
    "version": 3
   },
   "file_extension": ".py",
   "mimetype": "text/x-python",
   "name": "python",
   "nbconvert_exporter": "python",
   "pygments_lexer": "ipython3",
   "version": "3.10.16"
  }
 },
 "nbformat": 4,
 "nbformat_minor": 5
}
